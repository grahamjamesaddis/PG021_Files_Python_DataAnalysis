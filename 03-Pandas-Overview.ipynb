{
 "cells": [
  {
   "cell_type": "markdown",
   "metadata": {
    "id": "nyvBNbsl2nGl"
   },
   "source": [
    "# Data Manipulation with pandas"
   ]
  },
  {
   "cell_type": "markdown",
   "metadata": {
    "id": "diX2RwBF2nGn"
   },
   "source": [
    "At the very basic level, Pandas objects can be thought of as enhanced versions of NumPy arrays in which the rows and columns are identified with labels rather than simple integer indices.\n",
    "Pandas provides useful functionality on top of the basic data structures, but nearly everything that follows will require an understanding of what these structures are.\n",
    "Let's look at 2 key Pandas data structures: the ``Series`` and ``DataFrame``.\n",
    "\n",
    "We will start our code sessions with the standard NumPy and Pandas imports:"
   ]
  },
  {
   "cell_type": "code",
   "execution_count": 1,
   "metadata": {
    "executionInfo": {
     "elapsed": 1343,
     "status": "ok",
     "timestamp": 1604788671804,
     "user": {
      "displayName": "John Mathenge",
      "photoUrl": "",
      "userId": "03709155957566727783"
     },
     "user_tz": 0
    },
    "id": "h9p43Fja2nGn"
   },
   "outputs": [],
   "source": [
    "import numpy as np\n",
    "import pandas as pd"
   ]
  },
  {
   "cell_type": "markdown",
   "metadata": {
    "id": "9VRQDAbH2nGr"
   },
   "source": [
    "## The Pandas Series Object\n",
    "\n",
    "A Pandas ``Series`` is a one-dimensional array of indexed data.\n",
    "It can be created from a list or array as follows:"
   ]
  },
  {
   "cell_type": "code",
   "execution_count": 2,
   "metadata": {
    "colab": {
     "base_uri": "https://localhost:8080/"
    },
    "executionInfo": {
     "elapsed": 934,
     "status": "ok",
     "timestamp": 1604788673814,
     "user": {
      "displayName": "John Mathenge",
      "photoUrl": "",
      "userId": "03709155957566727783"
     },
     "user_tz": 0
    },
    "id": "idJlTjgM2nGs",
    "outputId": "d02f75a4-3f7e-40bb-a884-31aa30d18166"
   },
   "outputs": [
    {
     "data": {
      "text/plain": [
       "0    0.25\n",
       "1    0.50\n",
       "2    0.75\n",
       "3    1.00\n",
       "dtype: float64"
      ]
     },
     "execution_count": 2,
     "metadata": {
      "tags": []
     },
     "output_type": "execute_result"
    }
   ],
   "source": [
    "data = pd.Series([0.25, 0.5, 0.75, 1.0])\n",
    "data"
   ]
  },
  {
   "cell_type": "markdown",
   "metadata": {
    "id": "2ijiYdlz2nGv"
   },
   "source": [
    "As we see in the output, the ``Series`` wraps both a sequence of values and a sequence of indices, which we can access with the ``values`` and ``index`` attributes.\n",
    "The ``values`` are simply a familiar NumPy array:"
   ]
  },
  {
   "cell_type": "code",
   "execution_count": 3,
   "metadata": {
    "colab": {
     "base_uri": "https://localhost:8080/"
    },
    "executionInfo": {
     "elapsed": 915,
     "status": "ok",
     "timestamp": 1604788681161,
     "user": {
      "displayName": "John Mathenge",
      "photoUrl": "",
      "userId": "03709155957566727783"
     },
     "user_tz": 0
    },
    "id": "2mOMc8hC2nGw",
    "outputId": "1b963034-bdd0-41b6-f3ca-7e575025086c"
   },
   "outputs": [
    {
     "data": {
      "text/plain": [
       "array([0.25, 0.5 , 0.75, 1.  ])"
      ]
     },
     "execution_count": 3,
     "metadata": {
      "tags": []
     },
     "output_type": "execute_result"
    }
   ],
   "source": [
    "data.values"
   ]
  },
  {
   "cell_type": "markdown",
   "metadata": {
    "id": "dgQ-hOuP2nGy"
   },
   "source": [
    "The ``index`` is an array-like object of type ``pd.Index``"
   ]
  },
  {
   "cell_type": "code",
   "execution_count": 4,
   "metadata": {
    "colab": {
     "base_uri": "https://localhost:8080/"
    },
    "executionInfo": {
     "elapsed": 1149,
     "status": "ok",
     "timestamp": 1604788693484,
     "user": {
      "displayName": "John Mathenge",
      "photoUrl": "",
      "userId": "03709155957566727783"
     },
     "user_tz": 0
    },
    "id": "yUYQEwCE2nGz",
    "outputId": "5ff63dbd-350f-40b3-ca36-5a6f0c64fc31"
   },
   "outputs": [
    {
     "data": {
      "text/plain": [
       "RangeIndex(start=0, stop=4, step=1)"
      ]
     },
     "execution_count": 4,
     "metadata": {
      "tags": []
     },
     "output_type": "execute_result"
    }
   ],
   "source": [
    "data.index"
   ]
  },
  {
   "cell_type": "markdown",
   "metadata": {
    "id": "4c66E5AH2nG2"
   },
   "source": [
    "Like with a NumPy array, data can be accessed by the associated index via the familiar Python square-bracket notation:"
   ]
  },
  {
   "cell_type": "code",
   "execution_count": 5,
   "metadata": {
    "colab": {
     "base_uri": "https://localhost:8080/"
    },
    "executionInfo": {
     "elapsed": 910,
     "status": "ok",
     "timestamp": 1604788699663,
     "user": {
      "displayName": "John Mathenge",
      "photoUrl": "",
      "userId": "03709155957566727783"
     },
     "user_tz": 0
    },
    "id": "xA_47B9R2nG2",
    "outputId": "f11e2dd4-a691-404f-cb0d-67f727d536fa"
   },
   "outputs": [
    {
     "data": {
      "text/plain": [
       "0.5"
      ]
     },
     "execution_count": 5,
     "metadata": {
      "tags": []
     },
     "output_type": "execute_result"
    }
   ],
   "source": [
    "data[1]"
   ]
  },
  {
   "cell_type": "markdown",
   "metadata": {
    "id": "1P2YH0592nG5"
   },
   "source": [
    "As we will see, though, the Pandas ``Series`` is much more general and flexible than the one-dimensional NumPy array that it emulates."
   ]
  },
  {
   "cell_type": "markdown",
   "metadata": {
    "id": "kIndXCYC2nG5"
   },
   "source": [
    "### ``Series`` as generalized NumPy array"
   ]
  },
  {
   "cell_type": "markdown",
   "metadata": {
    "id": "mjkZL9Y32nG6"
   },
   "source": [
    "From what we've seen so far, it may look like the ``Series`` object is basically interchangeable with a one-dimensional NumPy array.\n",
    "The essential difference is the presence of the index: while the Numpy Array has an *implicitly defined* integer index used to access the values, the Pandas ``Series`` has an *explicitly defined* index associated with the values.\n",
    "\n",
    "This explicit index definition gives the ``Series`` object additional capabilities. For example, the index need not be an integer, but can consist of values of any desired type.\n",
    "For example, if we wish, we can use strings as an index:"
   ]
  },
  {
   "cell_type": "code",
   "execution_count": 6,
   "metadata": {
    "colab": {
     "base_uri": "https://localhost:8080/"
    },
    "executionInfo": {
     "elapsed": 541,
     "status": "ok",
     "timestamp": 1604788813387,
     "user": {
      "displayName": "John Mathenge",
      "photoUrl": "",
      "userId": "03709155957566727783"
     },
     "user_tz": 0
    },
    "id": "-NjIxlCC2nG6",
    "outputId": "f0392781-1975-4bc8-a2e3-2a1a39611ab4"
   },
   "outputs": [
    {
     "data": {
      "text/plain": [
       "a    0.25\n",
       "b    0.50\n",
       "c    0.75\n",
       "d    1.00\n",
       "dtype: float64"
      ]
     },
     "execution_count": 6,
     "metadata": {
      "tags": []
     },
     "output_type": "execute_result"
    }
   ],
   "source": [
    "data = pd.Series([0.25, 0.5, 0.75, 1.0],\n",
    "                 index=['a', 'b', 'c', 'd'])\n",
    "data"
   ]
  },
  {
   "cell_type": "markdown",
   "metadata": {
    "id": "0d8flDAO2nG9"
   },
   "source": [
    "And the item access works as expected:"
   ]
  },
  {
   "cell_type": "code",
   "execution_count": 7,
   "metadata": {
    "colab": {
     "base_uri": "https://localhost:8080/"
    },
    "executionInfo": {
     "elapsed": 582,
     "status": "ok",
     "timestamp": 1604788818579,
     "user": {
      "displayName": "John Mathenge",
      "photoUrl": "",
      "userId": "03709155957566727783"
     },
     "user_tz": 0
    },
    "id": "Y2JLrP2N2nG-",
    "outputId": "bf616a2c-51e3-429a-beca-a18cb8f8047d"
   },
   "outputs": [
    {
     "data": {
      "text/plain": [
       "0.5"
      ]
     },
     "execution_count": 7,
     "metadata": {
      "tags": []
     },
     "output_type": "execute_result"
    }
   ],
   "source": [
    "data['b']"
   ]
  },
  {
   "cell_type": "markdown",
   "metadata": {
    "id": "j2VWeTb72nHA"
   },
   "source": [
    "We can even use non-contiguous or non-sequential indices:"
   ]
  },
  {
   "cell_type": "code",
   "execution_count": 8,
   "metadata": {
    "colab": {
     "base_uri": "https://localhost:8080/"
    },
    "executionInfo": {
     "elapsed": 540,
     "status": "ok",
     "timestamp": 1604788822447,
     "user": {
      "displayName": "John Mathenge",
      "photoUrl": "",
      "userId": "03709155957566727783"
     },
     "user_tz": 0
    },
    "id": "Cl21dO1-2nHA",
    "outputId": "b0f7af54-9a1d-483d-d11c-59ecf34b31cb"
   },
   "outputs": [
    {
     "data": {
      "text/plain": [
       "2    0.25\n",
       "5    0.50\n",
       "3    0.75\n",
       "7    1.00\n",
       "dtype: float64"
      ]
     },
     "execution_count": 8,
     "metadata": {
      "tags": []
     },
     "output_type": "execute_result"
    }
   ],
   "source": [
    "data = pd.Series([0.25, 0.5, 0.75, 1.0],\n",
    "                 index=[2, 5, 3,7])\n",
    "data"
   ]
  },
  {
   "cell_type": "code",
   "execution_count": 9,
   "metadata": {
    "colab": {
     "base_uri": "https://localhost:8080/"
    },
    "executionInfo": {
     "elapsed": 588,
     "status": "ok",
     "timestamp": 1604788825785,
     "user": {
      "displayName": "John Mathenge",
      "photoUrl": "",
      "userId": "03709155957566727783"
     },
     "user_tz": 0
    },
    "id": "aBRQhPXZ2nHD",
    "outputId": "4a05b863-7958-4e21-bd72-e92ce8ce58fa"
   },
   "outputs": [
    {
     "data": {
      "text/plain": [
       "0.5"
      ]
     },
     "execution_count": 9,
     "metadata": {
      "tags": []
     },
     "output_type": "execute_result"
    }
   ],
   "source": [
    "data[5]"
   ]
  },
  {
   "cell_type": "markdown",
   "metadata": {
    "id": "jIW1bJlK2nHF"
   },
   "source": [
    "### Series as specialized dictionary\n",
    "\n",
    "In this way, you can think of a Pandas ``Series`` a bit like a specialization of a Python dictionary.\n",
    "A dictionary is a structure that maps arbitrary keys to a set of arbitrary values, and a ``Series`` is a structure which maps typed keys to a set of typed values.\n",
    "This typing is important: just as the type-specific compiled code behind a NumPy array makes it more efficient than a Python list for certain operations, the type information of a Pandas ``Series`` makes it much more efficient than Python dictionaries for certain operations.\n",
    "\n",
    "The ``Series``-as-dictionary analogy can be made even more clear by constructing a ``Series`` object directly from a Python dictionary:"
   ]
  },
  {
   "cell_type": "code",
   "execution_count": 13,
   "metadata": {
    "colab": {
     "base_uri": "https://localhost:8080/"
    },
    "executionInfo": {
     "elapsed": 511,
     "status": "ok",
     "timestamp": 1604788889256,
     "user": {
      "displayName": "John Mathenge",
      "photoUrl": "",
      "userId": "03709155957566727783"
     },
     "user_tz": 0
    },
    "id": "oqn6PCnU2nHG",
    "outputId": "db02cea7-3890-43fd-bf1f-151376431687"
   },
   "outputs": [
    {
     "data": {
      "text/plain": [
       "London         38332521\n",
       "Reading        26448193\n",
       "Birmingham     19651127\n",
       "Bath           19552860\n",
       "Southampton    12882135\n",
       "dtype: int64"
      ]
     },
     "execution_count": 13,
     "metadata": {
      "tags": []
     },
     "output_type": "execute_result"
    }
   ],
   "source": [
    "population_dict = {'London': 38332521,\n",
    "                   'Reading': 26448193,\n",
    "                   'Birmingham': 19651127,\n",
    "                   'Bath': 19552860,\n",
    "                   'Southampton': 12882135}\n",
    "population = pd.Series(population_dict)\n",
    "#population['Bath'] = 11.4 # you can change value for a certain key\n",
    "#population[\"Wolverhampton\"] = 30000 # you can add another city\n",
    "population"
   ]
  },
  {
   "cell_type": "markdown",
   "metadata": {
    "id": "x2zm1JJT2nHI"
   },
   "source": [
    "By default, a ``Series`` will be created where the index is drawn from the keys.\n",
    "From here, typical dictionary-style item access can be performed:"
   ]
  },
  {
   "cell_type": "code",
   "execution_count": 15,
   "metadata": {
    "colab": {
     "base_uri": "https://localhost:8080/"
    },
    "executionInfo": {
     "elapsed": 545,
     "status": "ok",
     "timestamp": 1604789098010,
     "user": {
      "displayName": "John Mathenge",
      "photoUrl": "",
      "userId": "03709155957566727783"
     },
     "user_tz": 0
    },
    "id": "ybU_c4OA2nHK",
    "outputId": "6676aa1d-04a7-4202-b7de-3c100f842594"
   },
   "outputs": [
    {
     "data": {
      "text/plain": [
       "38332521"
      ]
     },
     "execution_count": 15,
     "metadata": {
      "tags": []
     },
     "output_type": "execute_result"
    }
   ],
   "source": [
    "population['London']"
   ]
  },
  {
   "cell_type": "markdown",
   "metadata": {
    "id": "bnJi1pWG2nHM"
   },
   "source": [
    "Unlike a dictionary, though, the ``Series`` also supports array-style operations such as slicing:"
   ]
  },
  {
   "cell_type": "code",
   "execution_count": 17,
   "metadata": {
    "colab": {
     "base_uri": "https://localhost:8080/"
    },
    "executionInfo": {
     "elapsed": 537,
     "status": "ok",
     "timestamp": 1604789126342,
     "user": {
      "displayName": "John Mathenge",
      "photoUrl": "",
      "userId": "03709155957566727783"
     },
     "user_tz": 0
    },
    "id": "qN6ylINV2nHN",
    "outputId": "671e18c9-3a83-4b43-aebe-54438e765828"
   },
   "outputs": [
    {
     "data": {
      "text/plain": [
       "Reading        26448193\n",
       "Birmingham     19651127\n",
       "Bath           19552860\n",
       "Southampton    12882135\n",
       "dtype: int64"
      ]
     },
     "execution_count": 17,
     "metadata": {
      "tags": []
     },
     "output_type": "execute_result"
    }
   ],
   "source": [
    "population['Reading':]"
   ]
  },
  {
   "cell_type": "markdown",
   "metadata": {
    "id": "TrmZNnEJ2nHP"
   },
   "source": [
    "### Constructing Series objects\n",
    "\n",
    "We've already seen a few ways of constructing a Pandas ``Series`` from scratch; all of them are some version of the following:\n",
    "\n",
    "```python\n",
    ">>> pd.Series(data, index=index)\n",
    "```\n",
    "\n",
    "where ``index`` is an optional argument, and ``data`` can be one of many entities.\n",
    "\n",
    "For example, ``data`` can be a list or NumPy array, in which case ``index`` defaults to an integer sequence:"
   ]
  },
  {
   "cell_type": "code",
   "execution_count": null,
   "metadata": {
    "id": "_1TF3jor2nHQ",
    "outputId": "9e08d75d-a4d2-4646-8799-8c9570c9a19e"
   },
   "outputs": [
    {
     "data": {
      "text/plain": [
       "0    2\n",
       "1    4\n",
       "2    6\n",
       "dtype: int64"
      ]
     },
     "execution_count": 17,
     "metadata": {
      "tags": []
     },
     "output_type": "execute_result"
    }
   ],
   "source": [
    "pd.Series([2, 4, 6]) # or you can specify an index as index = ['a','b','c']"
   ]
  },
  {
   "cell_type": "markdown",
   "metadata": {
    "id": "qEHqDvQm2nHS"
   },
   "source": [
    "``data`` can be a scalar, which is repeated to fill the specified index:"
   ]
  },
  {
   "cell_type": "code",
   "execution_count": 18,
   "metadata": {
    "colab": {
     "base_uri": "https://localhost:8080/"
    },
    "executionInfo": {
     "elapsed": 666,
     "status": "ok",
     "timestamp": 1604789157473,
     "user": {
      "displayName": "John Mathenge",
      "photoUrl": "",
      "userId": "03709155957566727783"
     },
     "user_tz": 0
    },
    "id": "Dw79bMME2nHT",
    "outputId": "ad1c8be6-e309-4425-a5ed-d274e6d00371"
   },
   "outputs": [
    {
     "data": {
      "text/plain": [
       "100    5\n",
       "200    5\n",
       "300    5\n",
       "dtype: int64"
      ]
     },
     "execution_count": 18,
     "metadata": {
      "tags": []
     },
     "output_type": "execute_result"
    }
   ],
   "source": [
    "pd.Series(5, index=[100, 200, 300])"
   ]
  },
  {
   "cell_type": "markdown",
   "metadata": {
    "id": "4x6plk0u2nHV"
   },
   "source": [
    "``data`` can be a dictionary, in which ``index`` defaults to the sorted dictionary keys:"
   ]
  },
  {
   "cell_type": "code",
   "execution_count": 19,
   "metadata": {
    "executionInfo": {
     "elapsed": 825,
     "status": "ok",
     "timestamp": 1604789163465,
     "user": {
      "displayName": "John Mathenge",
      "photoUrl": "",
      "userId": "03709155957566727783"
     },
     "user_tz": 0
    },
    "id": "DhxwhI572nHV"
   },
   "outputs": [],
   "source": [
    "k = pd.Series({2:'a', 1:'b', 3:'c'})"
   ]
  },
  {
   "cell_type": "code",
   "execution_count": null,
   "metadata": {
    "id": "vURbIE0i2nHX",
    "outputId": "623ba63e-b976-4e0a-d87a-269f9ff7cf47"
   },
   "outputs": [
    {
     "data": {
      "text/plain": [
       "'c'"
      ]
     },
     "execution_count": 13,
     "metadata": {
      "tags": []
     },
     "output_type": "execute_result"
    }
   ],
   "source": [
    "k[3]"
   ]
  },
  {
   "cell_type": "markdown",
   "metadata": {
    "id": "_IZX36J02nHZ"
   },
   "source": [
    "In each case, the index can be explicitly set if a different result is preferred:"
   ]
  },
  {
   "cell_type": "code",
   "execution_count": 20,
   "metadata": {
    "colab": {
     "base_uri": "https://localhost:8080/"
    },
    "executionInfo": {
     "elapsed": 562,
     "status": "ok",
     "timestamp": 1604789167870,
     "user": {
      "displayName": "John Mathenge",
      "photoUrl": "",
      "userId": "03709155957566727783"
     },
     "user_tz": 0
    },
    "id": "4xnkpkWi2nHa",
    "outputId": "3e8a79be-4efd-4873-9e2d-8ab464f800c2"
   },
   "outputs": [
    {
     "data": {
      "text/plain": [
       "3    c\n",
       "2    a\n",
       "dtype: object"
      ]
     },
     "execution_count": 20,
     "metadata": {
      "tags": []
     },
     "output_type": "execute_result"
    }
   ],
   "source": [
    "pd.Series({2:'a', 1:'b', 3:'c'}, index=[3, 2])"
   ]
  },
  {
   "cell_type": "markdown",
   "metadata": {
    "id": "6kB37HT22nHc"
   },
   "source": [
    "Notice that in this case, the ``Series`` is populated only with the explicitly identified keys."
   ]
  },
  {
   "cell_type": "markdown",
   "metadata": {
    "id": "SuiCPAiT2nHc"
   },
   "source": [
    "## The Pandas DataFrame Object\n",
    "\n",
    "The next fundamental structure in Pandas is the ``DataFrame``.\n",
    "Like the ``Series`` object discussed in the previous section, the ``DataFrame`` can be thought of either as a <b>generalization of a NumPy array</b>, or as a <b>specialization of a Python dictionary</b>."
   ]
  },
  {
   "cell_type": "markdown",
   "metadata": {
    "id": "W3Wz4tj12nHd"
   },
   "source": [
    "### DataFrame as a generalized NumPy array\n",
    "If a ``Series`` is an analog of a one-dimensional array with flexible indices, a ``DataFrame`` is an analog of a two-dimensional array with both flexible row indices and flexible column names.\n",
    "Just as you might think of a two-dimensional array as an ordered sequence of aligned one-dimensional columns, you can think of a ``DataFrame`` as a sequence of <b>aligned </b>``Series`` objects.\n",
    "Here, by \"aligned\" we mean that <b>they share the same index</b>.\n",
    "\n",
    "To demonstrate this, let's first construct a new ``Series`` listing the area of five cities "
   ]
  },
  {
   "cell_type": "code",
   "execution_count": 21,
   "metadata": {
    "colab": {
     "base_uri": "https://localhost:8080/"
    },
    "executionInfo": {
     "elapsed": 529,
     "status": "ok",
     "timestamp": 1604789329725,
     "user": {
      "displayName": "John Mathenge",
      "photoUrl": "",
      "userId": "03709155957566727783"
     },
     "user_tz": 0
    },
    "id": "ndmxMp0W2nHd",
    "outputId": "5b8c2931-2cd6-4ab9-edcb-fc82838a2b1a"
   },
   "outputs": [
    {
     "data": {
      "text/plain": [
       "London         423967\n",
       "Birmingham     695662\n",
       "Bath           170312\n",
       "Southampton    149995\n",
       "dtype: int64"
      ]
     },
     "execution_count": 21,
     "metadata": {
      "tags": []
     },
     "output_type": "execute_result"
    }
   ],
   "source": [
    "area_dict = {'London': 423967,  'Birmingham': 695662, \n",
    "             'Bath': 170312, 'Southampton': 149995}\n",
    "area = pd.Series(area_dict)\n",
    "area"
   ]
  },
  {
   "cell_type": "markdown",
   "metadata": {
    "id": "VmHuXebd2nHf"
   },
   "source": [
    "Now that we have this along with the ``population`` Series from before, we can use a dictionary to construct a single two-dimensional object containing this information:"
   ]
  },
  {
   "cell_type": "code",
   "execution_count": 24,
   "metadata": {
    "colab": {
     "base_uri": "https://localhost:8080/",
     "height": 204
    },
    "executionInfo": {
     "elapsed": 529,
     "status": "ok",
     "timestamp": 1604789414203,
     "user": {
      "displayName": "John Mathenge",
      "photoUrl": "",
      "userId": "03709155957566727783"
     },
     "user_tz": 0
    },
    "id": "CQAVtU6i2nHg",
    "outputId": "48357e21-c97b-4588-8e47-3a34ed16cbf3"
   },
   "outputs": [
    {
     "data": {
      "text/html": [
       "<div>\n",
       "<style scoped>\n",
       "    .dataframe tbody tr th:only-of-type {\n",
       "        vertical-align: middle;\n",
       "    }\n",
       "\n",
       "    .dataframe tbody tr th {\n",
       "        vertical-align: top;\n",
       "    }\n",
       "\n",
       "    .dataframe thead th {\n",
       "        text-align: right;\n",
       "    }\n",
       "</style>\n",
       "<table border=\"1\" class=\"dataframe\">\n",
       "  <thead>\n",
       "    <tr style=\"text-align: right;\">\n",
       "      <th></th>\n",
       "      <th>population</th>\n",
       "      <th>area</th>\n",
       "    </tr>\n",
       "  </thead>\n",
       "  <tbody>\n",
       "    <tr>\n",
       "      <th>Bath</th>\n",
       "      <td>19552860</td>\n",
       "      <td>170312.0</td>\n",
       "    </tr>\n",
       "    <tr>\n",
       "      <th>Birmingham</th>\n",
       "      <td>19651127</td>\n",
       "      <td>695662.0</td>\n",
       "    </tr>\n",
       "    <tr>\n",
       "      <th>London</th>\n",
       "      <td>38332521</td>\n",
       "      <td>423967.0</td>\n",
       "    </tr>\n",
       "    <tr>\n",
       "      <th>Reading</th>\n",
       "      <td>26448193</td>\n",
       "      <td>NaN</td>\n",
       "    </tr>\n",
       "    <tr>\n",
       "      <th>Southampton</th>\n",
       "      <td>12882135</td>\n",
       "      <td>149995.0</td>\n",
       "    </tr>\n",
       "  </tbody>\n",
       "</table>\n",
       "</div>"
      ],
      "text/plain": [
       "             population      area\n",
       "Bath           19552860  170312.0\n",
       "Birmingham     19651127  695662.0\n",
       "London         38332521  423967.0\n",
       "Reading        26448193       NaN\n",
       "Southampton    12882135  149995.0"
      ]
     },
     "execution_count": 24,
     "metadata": {
      "tags": []
     },
     "output_type": "execute_result"
    }
   ],
   "source": [
    "cities = pd.DataFrame({'population': population,\n",
    "                       'area': area})\n",
    "cities"
   ]
  },
  {
   "cell_type": "markdown",
   "metadata": {
    "id": "dxMaE23K2nHi"
   },
   "source": [
    "Like the ``Series`` object, the ``DataFrame`` has an ``index`` attribute that gives access to the index labels:"
   ]
  },
  {
   "cell_type": "code",
   "execution_count": 25,
   "metadata": {
    "colab": {
     "base_uri": "https://localhost:8080/"
    },
    "executionInfo": {
     "elapsed": 507,
     "status": "ok",
     "timestamp": 1604789422393,
     "user": {
      "displayName": "John Mathenge",
      "photoUrl": "",
      "userId": "03709155957566727783"
     },
     "user_tz": 0
    },
    "id": "BpR0YIEN2nHi",
    "outputId": "a488dc9d-965e-4ea4-c284-5433ffc1a08e"
   },
   "outputs": [
    {
     "data": {
      "text/plain": [
       "Index(['Bath', 'Birmingham', 'London', 'Reading', 'Southampton'], dtype='object')"
      ]
     },
     "execution_count": 25,
     "metadata": {
      "tags": []
     },
     "output_type": "execute_result"
    }
   ],
   "source": [
    "cities.index"
   ]
  },
  {
   "cell_type": "markdown",
   "metadata": {
    "id": "vKosJRHw2nHk"
   },
   "source": [
    "Additionally, the ``DataFrame`` has a ``columns`` attribute, which is an ``Index`` object holding the column labels:"
   ]
  },
  {
   "cell_type": "code",
   "execution_count": 27,
   "metadata": {
    "colab": {
     "base_uri": "https://localhost:8080/"
    },
    "executionInfo": {
     "elapsed": 508,
     "status": "ok",
     "timestamp": 1604789443663,
     "user": {
      "displayName": "John Mathenge",
      "photoUrl": "",
      "userId": "03709155957566727783"
     },
     "user_tz": 0
    },
    "id": "GTJ1pgZ12nHl",
    "outputId": "a75e9699-839e-4a20-943d-639aa2569369"
   },
   "outputs": [
    {
     "data": {
      "text/plain": [
       "Index(['population', 'area'], dtype='object')"
      ]
     },
     "execution_count": 27,
     "metadata": {
      "tags": []
     },
     "output_type": "execute_result"
    }
   ],
   "source": [
    "cities.columns"
   ]
  },
  {
   "cell_type": "code",
   "execution_count": 28,
   "metadata": {
    "colab": {
     "base_uri": "https://localhost:8080/"
    },
    "executionInfo": {
     "elapsed": 556,
     "status": "ok",
     "timestamp": 1604789455151,
     "user": {
      "displayName": "John Mathenge",
      "photoUrl": "",
      "userId": "03709155957566727783"
     },
     "user_tz": 0
    },
    "id": "dYjZAy022nHo",
    "outputId": "0c5cdc06-8817-49d2-ee8e-0a06313ad38e"
   },
   "outputs": [
    {
     "name": "stdout",
     "output_type": "stream",
     "text": [
      "<class 'pandas.core.frame.DataFrame'>\n",
      "Index: 5 entries, Bath to Southampton\n",
      "Data columns (total 2 columns):\n",
      " #   Column      Non-Null Count  Dtype  \n",
      "---  ------      --------------  -----  \n",
      " 0   population  5 non-null      int64  \n",
      " 1   area        4 non-null      float64\n",
      "dtypes: float64(1), int64(1)\n",
      "memory usage: 120.0+ bytes\n"
     ]
    }
   ],
   "source": [
    "cities.info()"
   ]
  },
  {
   "cell_type": "markdown",
   "metadata": {
    "id": "6D0M5iVy2nHq"
   },
   "source": [
    "Thus the ``DataFrame`` can be thought of as a generalization of a two-dimensional NumPy array, where both the rows and columns have a generalized index for accessing the data."
   ]
  },
  {
   "cell_type": "markdown",
   "metadata": {
    "id": "wxdPWPts2nHr"
   },
   "source": [
    "### DataFrame as specialized dictionary\n",
    "\n",
    "Similarly, we can also think of a ``DataFrame`` as a specialization of a dictionary.\n",
    "Where a dictionary maps a key to a value, a ``DataFrame`` maps a column name to a ``Series`` of column data.\n",
    "For example, asking for the ``'area'`` attribute returns the ``Series`` object containing the areas we saw earlier:"
   ]
  },
  {
   "cell_type": "code",
   "execution_count": 39,
   "metadata": {
    "colab": {
     "base_uri": "https://localhost:8080/"
    },
    "executionInfo": {
     "elapsed": 518,
     "status": "ok",
     "timestamp": 1604789764604,
     "user": {
      "displayName": "John Mathenge",
      "photoUrl": "",
      "userId": "03709155957566727783"
     },
     "user_tz": 0
    },
    "id": "WpOLxRgY2nHr",
    "outputId": "753db6f9-57dc-4639-9179-caf79b7849e0"
   },
   "outputs": [
    {
     "data": {
      "text/plain": [
       "Bath           170312.0\n",
       "Birmingham     695662.0\n",
       "London         423967.0\n",
       "Reading             NaN\n",
       "Southampton    149995.0\n",
       "Name: area, dtype: float64"
      ]
     },
     "execution_count": 39,
     "metadata": {
      "tags": []
     },
     "output_type": "execute_result"
    }
   ],
   "source": [
    "cities['area']"
   ]
  },
  {
   "cell_type": "markdown",
   "metadata": {
    "id": "_qVrM4I-2nHt"
   },
   "source": [
    "Notice the potential point of confusion here: in a two-dimesnional NumPy array, ``data[0]`` will return the first *row*. For a ``DataFrame``, ``data['col0']`` will return the first *column*.\n",
    "Because of this, it is probably better to think about ``DataFrame``s as generalized dictionaries rather than generalized arrays, though both ways of looking at the situation can be useful."
   ]
  },
  {
   "cell_type": "markdown",
   "metadata": {
    "id": "TczoGm6T2nHt"
   },
   "source": [
    "### Constructing DataFrame objects\n",
    "\n",
    "A Pandas ``DataFrame`` can be constructed in a variety of ways.\n",
    "Here we'll give several examples."
   ]
  },
  {
   "cell_type": "markdown",
   "metadata": {
    "id": "OvFNePco2nHu"
   },
   "source": [
    "#### From a single Series object\n",
    "\n",
    "A ``DataFrame`` is a collection of ``Series`` objects, and a single-column ``DataFrame`` can be constructed from a single ``Series``:"
   ]
  },
  {
   "cell_type": "code",
   "execution_count": 40,
   "metadata": {
    "colab": {
     "base_uri": "https://localhost:8080/",
     "height": 204
    },
    "executionInfo": {
     "elapsed": 486,
     "status": "ok",
     "timestamp": 1604789771454,
     "user": {
      "displayName": "John Mathenge",
      "photoUrl": "",
      "userId": "03709155957566727783"
     },
     "user_tz": 0
    },
    "id": "tWGFFhxe2nHu",
    "outputId": "c8dfc2bf-2377-493b-9d8a-32e964433bbf"
   },
   "outputs": [
    {
     "data": {
      "text/html": [
       "<div>\n",
       "<style scoped>\n",
       "    .dataframe tbody tr th:only-of-type {\n",
       "        vertical-align: middle;\n",
       "    }\n",
       "\n",
       "    .dataframe tbody tr th {\n",
       "        vertical-align: top;\n",
       "    }\n",
       "\n",
       "    .dataframe thead th {\n",
       "        text-align: right;\n",
       "    }\n",
       "</style>\n",
       "<table border=\"1\" class=\"dataframe\">\n",
       "  <thead>\n",
       "    <tr style=\"text-align: right;\">\n",
       "      <th></th>\n",
       "      <th>population</th>\n",
       "    </tr>\n",
       "  </thead>\n",
       "  <tbody>\n",
       "    <tr>\n",
       "      <th>London</th>\n",
       "      <td>38332521</td>\n",
       "    </tr>\n",
       "    <tr>\n",
       "      <th>Reading</th>\n",
       "      <td>26448193</td>\n",
       "    </tr>\n",
       "    <tr>\n",
       "      <th>Birmingham</th>\n",
       "      <td>19651127</td>\n",
       "    </tr>\n",
       "    <tr>\n",
       "      <th>Bath</th>\n",
       "      <td>19552860</td>\n",
       "    </tr>\n",
       "    <tr>\n",
       "      <th>Southampton</th>\n",
       "      <td>12882135</td>\n",
       "    </tr>\n",
       "  </tbody>\n",
       "</table>\n",
       "</div>"
      ],
      "text/plain": [
       "             population\n",
       "London         38332521\n",
       "Reading        26448193\n",
       "Birmingham     19651127\n",
       "Bath           19552860\n",
       "Southampton    12882135"
      ]
     },
     "execution_count": 40,
     "metadata": {
      "tags": []
     },
     "output_type": "execute_result"
    }
   ],
   "source": [
    "pd.DataFrame(population, columns=['population'])"
   ]
  },
  {
   "cell_type": "markdown",
   "metadata": {
    "id": "LwxJypqq2nHw"
   },
   "source": [
    "#### From a dictionary of Series objects\n",
    "\n",
    "As we saw before, a ``DataFrame`` can be constructed from a dictionary of ``Series`` objects as well:"
   ]
  },
  {
   "cell_type": "code",
   "execution_count": 41,
   "metadata": {
    "colab": {
     "base_uri": "https://localhost:8080/",
     "height": 204
    },
    "executionInfo": {
     "elapsed": 519,
     "status": "ok",
     "timestamp": 1604789773480,
     "user": {
      "displayName": "John Mathenge",
      "photoUrl": "",
      "userId": "03709155957566727783"
     },
     "user_tz": 0
    },
    "id": "7k-Imm202nHw",
    "outputId": "fcf9f44a-8c69-45e1-a862-d761c0e8d297"
   },
   "outputs": [
    {
     "data": {
      "text/html": [
       "<div>\n",
       "<style scoped>\n",
       "    .dataframe tbody tr th:only-of-type {\n",
       "        vertical-align: middle;\n",
       "    }\n",
       "\n",
       "    .dataframe tbody tr th {\n",
       "        vertical-align: top;\n",
       "    }\n",
       "\n",
       "    .dataframe thead th {\n",
       "        text-align: right;\n",
       "    }\n",
       "</style>\n",
       "<table border=\"1\" class=\"dataframe\">\n",
       "  <thead>\n",
       "    <tr style=\"text-align: right;\">\n",
       "      <th></th>\n",
       "      <th>population</th>\n",
       "      <th>area</th>\n",
       "    </tr>\n",
       "  </thead>\n",
       "  <tbody>\n",
       "    <tr>\n",
       "      <th>Bath</th>\n",
       "      <td>19552860</td>\n",
       "      <td>170312.0</td>\n",
       "    </tr>\n",
       "    <tr>\n",
       "      <th>Birmingham</th>\n",
       "      <td>19651127</td>\n",
       "      <td>695662.0</td>\n",
       "    </tr>\n",
       "    <tr>\n",
       "      <th>London</th>\n",
       "      <td>38332521</td>\n",
       "      <td>423967.0</td>\n",
       "    </tr>\n",
       "    <tr>\n",
       "      <th>Reading</th>\n",
       "      <td>26448193</td>\n",
       "      <td>NaN</td>\n",
       "    </tr>\n",
       "    <tr>\n",
       "      <th>Southampton</th>\n",
       "      <td>12882135</td>\n",
       "      <td>149995.0</td>\n",
       "    </tr>\n",
       "  </tbody>\n",
       "</table>\n",
       "</div>"
      ],
      "text/plain": [
       "             population      area\n",
       "Bath           19552860  170312.0\n",
       "Birmingham     19651127  695662.0\n",
       "London         38332521  423967.0\n",
       "Reading        26448193       NaN\n",
       "Southampton    12882135  149995.0"
      ]
     },
     "execution_count": 41,
     "metadata": {
      "tags": []
     },
     "output_type": "execute_result"
    }
   ],
   "source": [
    "pd.DataFrame({'population': population,\n",
    "              'area': area})"
   ]
  },
  {
   "cell_type": "markdown",
   "metadata": {
    "id": "YiFPssox2nHz"
   },
   "source": [
    "#### From a two-dimensional NumPy array\n",
    "\n",
    "Given a two-dimensional array of data, we can create a ``DataFrame`` with any specified column and index names.\n",
    "If omitted, an integer index will be used for each:"
   ]
  },
  {
   "cell_type": "code",
   "execution_count": 42,
   "metadata": {
    "colab": {
     "base_uri": "https://localhost:8080/",
     "height": 142
    },
    "executionInfo": {
     "elapsed": 558,
     "status": "ok",
     "timestamp": 1604789807056,
     "user": {
      "displayName": "John Mathenge",
      "photoUrl": "",
      "userId": "03709155957566727783"
     },
     "user_tz": 0
    },
    "id": "YDJ6Gb6v2nHz",
    "outputId": "e5d6d108-8f3a-4f04-e083-1884e7aeac70"
   },
   "outputs": [
    {
     "data": {
      "text/html": [
       "<div>\n",
       "<style scoped>\n",
       "    .dataframe tbody tr th:only-of-type {\n",
       "        vertical-align: middle;\n",
       "    }\n",
       "\n",
       "    .dataframe tbody tr th {\n",
       "        vertical-align: top;\n",
       "    }\n",
       "\n",
       "    .dataframe thead th {\n",
       "        text-align: right;\n",
       "    }\n",
       "</style>\n",
       "<table border=\"1\" class=\"dataframe\">\n",
       "  <thead>\n",
       "    <tr style=\"text-align: right;\">\n",
       "      <th></th>\n",
       "      <th>Obj1</th>\n",
       "      <th>Obj2</th>\n",
       "    </tr>\n",
       "  </thead>\n",
       "  <tbody>\n",
       "    <tr>\n",
       "      <th>a</th>\n",
       "      <td>0.469979</td>\n",
       "      <td>0.202770</td>\n",
       "    </tr>\n",
       "    <tr>\n",
       "      <th>b</th>\n",
       "      <td>0.671214</td>\n",
       "      <td>0.372766</td>\n",
       "    </tr>\n",
       "    <tr>\n",
       "      <th>c</th>\n",
       "      <td>0.334831</td>\n",
       "      <td>0.984115</td>\n",
       "    </tr>\n",
       "  </tbody>\n",
       "</table>\n",
       "</div>"
      ],
      "text/plain": [
       "       Obj1      Obj2\n",
       "a  0.469979  0.202770\n",
       "b  0.671214  0.372766\n",
       "c  0.334831  0.984115"
      ]
     },
     "execution_count": 42,
     "metadata": {
      "tags": []
     },
     "output_type": "execute_result"
    }
   ],
   "source": [
    "pd.DataFrame(np.random.rand(3, 2),\n",
    "             columns=['Obj1', 'Obj2'],index=['a', 'b', 'c'])"
   ]
  },
  {
   "cell_type": "code",
   "execution_count": null,
   "metadata": {
    "id": "JvhyGepE2nH2"
   },
   "outputs": [],
   "source": []
  }
 ],
 "metadata": {
  "anaconda-cloud": {},
  "colab": {
   "collapsed_sections": [],
   "name": "Pandas-Overview-checkpoint.ipynb",
   "provenance": [],
   "toc_visible": true
  },
  "kernelspec": {
   "display_name": "Python 3 (ipykernel)",
   "language": "python",
   "name": "python3"
  },
  "language_info": {
   "codemirror_mode": {
    "name": "ipython",
    "version": 3
   },
   "file_extension": ".py",
   "mimetype": "text/x-python",
   "name": "python",
   "nbconvert_exporter": "python",
   "pygments_lexer": "ipython3",
   "version": "3.9.7"
  }
 },
 "nbformat": 4,
 "nbformat_minor": 1
}
